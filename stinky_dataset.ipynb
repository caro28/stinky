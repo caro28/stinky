{
  "nbformat": 4,
  "nbformat_minor": 0,
  "metadata": {
    "colab": {
      "name": "stinky_dataset.ipynb",
      "provenance": [],
      "collapsed_sections": [],
      "include_colab_link": true
    },
    "kernelspec": {
      "name": "python3",
      "display_name": "Python 3"
    },
    "language_info": {
      "name": "python"
    }
  },
  "cells": [
    {
      "cell_type": "markdown",
      "metadata": {
        "id": "view-in-github",
        "colab_type": "text"
      },
      "source": [
        "<a href=\"https://colab.research.google.com/github/caro28/stinky/blob/master/stinky_dataset.ipynb\" target=\"_parent\"><img src=\"https://colab.research.google.com/assets/colab-badge.svg\" alt=\"Open In Colab\"/></a>"
      ]
    },
    {
      "cell_type": "markdown",
      "metadata": {
        "id": "qsliKAaP-E64"
      },
      "source": [
        "# Summary\n",
        "\n",
        "*   This file loads and merges data from two databases for residents to report odor complaints: [SmellMyCity (SMC)](https://smellmycity.org/) and [SeeClickFix (SCF)](https://seeclickfix.com/portland_2). The data is from 2020 and 2021.\n",
        "* Running all cells (Runtime --> Run all) will automatically download df_stinky.csv, on the user's computer, after loading and merging the raw data.\n",
        "* The majority of SMC data is from S Portland, though it does contain data from Portland as well. SCF contained only Portland data when this notebook was created (Aug 2021).\n",
        "* New columns were added to df_stinky to filter reports by city (South Portland/Portland) and to look at date/time more granularly.\n",
        "\n",
        "## How to update df_stinky (table that combines data from SMC and SCF data)\n",
        "1. Update raw SMC data and SCF data: \n",
        "   * SMC data: download from [SMC website](https://smellmycity.org/data). Select by zipcode, enter \"4101,4102,4106,4107,4103,4108,4124\", download and save as csv (use this file name: smc.csv)\n",
        "   * Get updated SCF Excel spreadsheet from city of Portland and save as csv (use this file name: scf.csv)\n",
        "   *   Upload updated csv files from SmellMyCity (SMC) and SeeClickFix (SCF) in [data folder](https://github.com/ds5110/stinky/tree/master/data)\n",
        "2. Run all cells --> this will download a csv file containing df_stinky\n",
        "3. Upload df_stinky.csv to [data folder](https://github.com/ds5110/stinky/tree/master/data). (Do not need to delete old df_stinky.csv file; GitHub will automatically replace with new file.)\n",
        "\n",
        "Note: if updated data for SCF is sent through new, separate Excel spreadsheets, the code for loading data will need to be edited (e.g. how raw data for oil vessel arrivals is loaded in [oil_vessels_data.ipynb](https://github.com/ds5110/stinky/blob/master/oil_vessel_dataset.ipynb))"
      ]
    },
    {
      "cell_type": "markdown",
      "metadata": {
        "id": "ZxLOxKD--OLb"
      },
      "source": [
        "# Portland and S Portland zip codes included in current SMC and SCF raw data\n",
        "\n",
        "*   Portland\n",
        "  *   04101, 04102: Portland immediately north of Fore River\n",
        "  *   04103: Portland, further north (to northern border of the city)\n",
        "  *   04108: Portland, islands to the east (Peaks Island and Cushing Island)\n",
        "  *   04124: Portland, west of airport \n",
        "\n",
        "*   South Portland\n",
        "  *   04106, 04107: S Portland immediately south of Fore River\n"
      ]
    },
    {
      "cell_type": "code",
      "metadata": {
        "colab": {
          "base_uri": "https://localhost:8080/",
          "height": 237
        },
        "id": "sBjQ1XP7ZYLo",
        "outputId": "dd340ba4-5dcb-40fb-a31c-8959a0324478"
      },
      "source": [
        "import pandas as pd\n",
        "\n",
        "# load SMC data\n",
        "url_all_zips = 'https://raw.githubusercontent.com/ds5110/stinky/master/data/smc.csv'\n",
        "df_smc = pd.read_csv(url_all_zips)\n",
        "print(df_smc.shape)\n",
        "\n",
        "# the first rows of df_smc look like this\n",
        "df_smc.head()"
      ],
      "execution_count": null,
      "outputs": [
        {
          "output_type": "stream",
          "text": [
            "(2612, 9)\n"
          ],
          "name": "stdout"
        },
        {
          "output_type": "execute_result",
          "data": {
            "text/html": [
              "<div>\n",
              "<style scoped>\n",
              "    .dataframe tbody tr th:only-of-type {\n",
              "        vertical-align: middle;\n",
              "    }\n",
              "\n",
              "    .dataframe tbody tr th {\n",
              "        vertical-align: top;\n",
              "    }\n",
              "\n",
              "    .dataframe thead th {\n",
              "        text-align: right;\n",
              "    }\n",
              "</style>\n",
              "<table border=\"1\" class=\"dataframe\">\n",
              "  <thead>\n",
              "    <tr style=\"text-align: right;\">\n",
              "      <th></th>\n",
              "      <th>epoch time</th>\n",
              "      <th>date &amp; time</th>\n",
              "      <th>smell value</th>\n",
              "      <th>skewed latitude</th>\n",
              "      <th>skewed longitude</th>\n",
              "      <th>zipcode</th>\n",
              "      <th>smell description</th>\n",
              "      <th>symptoms</th>\n",
              "      <th>additional comments</th>\n",
              "    </tr>\n",
              "  </thead>\n",
              "  <tbody>\n",
              "    <tr>\n",
              "      <th>0</th>\n",
              "      <td>1558531873</td>\n",
              "      <td>05/22/2019 09:31:13 -04:00</td>\n",
              "      <td>3</td>\n",
              "      <td>43.6608</td>\n",
              "      <td>-70.2498</td>\n",
              "      <td>4101</td>\n",
              "      <td>Grainy / malt like - coming from St. John street</td>\n",
              "      <td>NaN</td>\n",
              "      <td>NaN</td>\n",
              "    </tr>\n",
              "    <tr>\n",
              "      <th>1</th>\n",
              "      <td>1558691615</td>\n",
              "      <td>05/24/2019 05:53:35 -04:00</td>\n",
              "      <td>3</td>\n",
              "      <td>43.6435</td>\n",
              "      <td>-70.2702</td>\n",
              "      <td>4102</td>\n",
              "      <td>NaN</td>\n",
              "      <td>NaN</td>\n",
              "      <td>NaN</td>\n",
              "    </tr>\n",
              "    <tr>\n",
              "      <th>2</th>\n",
              "      <td>1559178135</td>\n",
              "      <td>05/29/2019 21:02:15 -04:00</td>\n",
              "      <td>3</td>\n",
              "      <td>43.6466</td>\n",
              "      <td>-70.2770</td>\n",
              "      <td>4102</td>\n",
              "      <td>Asphalty</td>\n",
              "      <td>NaN</td>\n",
              "      <td>NaN</td>\n",
              "    </tr>\n",
              "    <tr>\n",
              "      <th>3</th>\n",
              "      <td>1559341934</td>\n",
              "      <td>05/31/2019 18:32:14 -04:00</td>\n",
              "      <td>1</td>\n",
              "      <td>43.6325</td>\n",
              "      <td>-70.2828</td>\n",
              "      <td>4106</td>\n",
              "      <td>NaN</td>\n",
              "      <td>NaN</td>\n",
              "      <td>NaN</td>\n",
              "    </tr>\n",
              "    <tr>\n",
              "      <th>4</th>\n",
              "      <td>1559387558</td>\n",
              "      <td>06/01/2019 07:12:38 -04:00</td>\n",
              "      <td>3</td>\n",
              "      <td>43.6343</td>\n",
              "      <td>-70.2825</td>\n",
              "      <td>4106</td>\n",
              "      <td>Oil fumes</td>\n",
              "      <td>Throat irritation</td>\n",
              "      <td>NaN</td>\n",
              "    </tr>\n",
              "  </tbody>\n",
              "</table>\n",
              "</div>"
            ],
            "text/plain": [
              "   epoch time  ... additional comments\n",
              "0  1558531873  ...                 NaN\n",
              "1  1558691615  ...                 NaN\n",
              "2  1559178135  ...                 NaN\n",
              "3  1559341934  ...                 NaN\n",
              "4  1559387558  ...                 NaN\n",
              "\n",
              "[5 rows x 9 columns]"
            ]
          },
          "metadata": {},
          "execution_count": 19
        },
        {
          "output_type": "stream",
          "text": [
            "time: 119 ms (started: 2021-08-22 00:08:06 +00:00)\n"
          ],
          "name": "stdout"
        }
      ]
    },
    {
      "cell_type": "code",
      "metadata": {
        "colab": {
          "base_uri": "https://localhost:8080/"
        },
        "id": "8-6pQXGvProz",
        "outputId": "06003219-aa3e-4b31-a846-4a60e6e5d410"
      },
      "source": [
        "# Check for NA values\n",
        "df_smc.isna().sum()"
      ],
      "execution_count": null,
      "outputs": [
        {
          "output_type": "execute_result",
          "data": {
            "text/plain": [
              "epoch time                0\n",
              "date & time               0\n",
              "smell value               0\n",
              "skewed latitude           0\n",
              "skewed longitude          0\n",
              "zipcode                   0\n",
              "smell description       560\n",
              "symptoms               1678\n",
              "additional comments    2549\n",
              "dtype: int64"
            ]
          },
          "metadata": {},
          "execution_count": 20
        },
        {
          "output_type": "stream",
          "text": [
            "time: 10.2 ms (started: 2021-08-22 00:08:06 +00:00)\n"
          ],
          "name": "stdout"
        }
      ]
    },
    {
      "cell_type": "code",
      "metadata": {
        "colab": {
          "base_uri": "https://localhost:8080/",
          "height": 312
        },
        "id": "f9J2RIwWnJHT",
        "outputId": "33ec82c3-9fad-41ca-cafc-b204d39ab1aa"
      },
      "source": [
        "# get number of reports by zipcode (look at values in columns with 0 NA values)\n",
        "df_smc.groupby('zipcode').count()"
      ],
      "execution_count": null,
      "outputs": [
        {
          "output_type": "execute_result",
          "data": {
            "text/html": [
              "<div>\n",
              "<style scoped>\n",
              "    .dataframe tbody tr th:only-of-type {\n",
              "        vertical-align: middle;\n",
              "    }\n",
              "\n",
              "    .dataframe tbody tr th {\n",
              "        vertical-align: top;\n",
              "    }\n",
              "\n",
              "    .dataframe thead th {\n",
              "        text-align: right;\n",
              "    }\n",
              "</style>\n",
              "<table border=\"1\" class=\"dataframe\">\n",
              "  <thead>\n",
              "    <tr style=\"text-align: right;\">\n",
              "      <th></th>\n",
              "      <th>epoch time</th>\n",
              "      <th>date &amp; time</th>\n",
              "      <th>smell value</th>\n",
              "      <th>skewed latitude</th>\n",
              "      <th>skewed longitude</th>\n",
              "      <th>smell description</th>\n",
              "      <th>symptoms</th>\n",
              "      <th>additional comments</th>\n",
              "    </tr>\n",
              "    <tr>\n",
              "      <th>zipcode</th>\n",
              "      <th></th>\n",
              "      <th></th>\n",
              "      <th></th>\n",
              "      <th></th>\n",
              "      <th></th>\n",
              "      <th></th>\n",
              "      <th></th>\n",
              "      <th></th>\n",
              "    </tr>\n",
              "  </thead>\n",
              "  <tbody>\n",
              "    <tr>\n",
              "      <th>4101</th>\n",
              "      <td>53</td>\n",
              "      <td>53</td>\n",
              "      <td>53</td>\n",
              "      <td>53</td>\n",
              "      <td>53</td>\n",
              "      <td>43</td>\n",
              "      <td>16</td>\n",
              "      <td>2</td>\n",
              "    </tr>\n",
              "    <tr>\n",
              "      <th>4102</th>\n",
              "      <td>376</td>\n",
              "      <td>376</td>\n",
              "      <td>376</td>\n",
              "      <td>376</td>\n",
              "      <td>376</td>\n",
              "      <td>254</td>\n",
              "      <td>122</td>\n",
              "      <td>11</td>\n",
              "    </tr>\n",
              "    <tr>\n",
              "      <th>4103</th>\n",
              "      <td>5</td>\n",
              "      <td>5</td>\n",
              "      <td>5</td>\n",
              "      <td>5</td>\n",
              "      <td>5</td>\n",
              "      <td>4</td>\n",
              "      <td>4</td>\n",
              "      <td>1</td>\n",
              "    </tr>\n",
              "    <tr>\n",
              "      <th>4106</th>\n",
              "      <td>2169</td>\n",
              "      <td>2169</td>\n",
              "      <td>2169</td>\n",
              "      <td>2169</td>\n",
              "      <td>2169</td>\n",
              "      <td>1748</td>\n",
              "      <td>791</td>\n",
              "      <td>49</td>\n",
              "    </tr>\n",
              "    <tr>\n",
              "      <th>4107</th>\n",
              "      <td>7</td>\n",
              "      <td>7</td>\n",
              "      <td>7</td>\n",
              "      <td>7</td>\n",
              "      <td>7</td>\n",
              "      <td>3</td>\n",
              "      <td>1</td>\n",
              "      <td>0</td>\n",
              "    </tr>\n",
              "    <tr>\n",
              "      <th>4108</th>\n",
              "      <td>1</td>\n",
              "      <td>1</td>\n",
              "      <td>1</td>\n",
              "      <td>1</td>\n",
              "      <td>1</td>\n",
              "      <td>0</td>\n",
              "      <td>0</td>\n",
              "      <td>0</td>\n",
              "    </tr>\n",
              "    <tr>\n",
              "      <th>4124</th>\n",
              "      <td>1</td>\n",
              "      <td>1</td>\n",
              "      <td>1</td>\n",
              "      <td>1</td>\n",
              "      <td>1</td>\n",
              "      <td>0</td>\n",
              "      <td>0</td>\n",
              "      <td>0</td>\n",
              "    </tr>\n",
              "  </tbody>\n",
              "</table>\n",
              "</div>"
            ],
            "text/plain": [
              "         epoch time  date & time  ...  symptoms  additional comments\n",
              "zipcode                           ...                               \n",
              "4101             53           53  ...        16                    2\n",
              "4102            376          376  ...       122                   11\n",
              "4103              5            5  ...         4                    1\n",
              "4106           2169         2169  ...       791                   49\n",
              "4107              7            7  ...         1                    0\n",
              "4108              1            1  ...         0                    0\n",
              "4124              1            1  ...         0                    0\n",
              "\n",
              "[7 rows x 8 columns]"
            ]
          },
          "metadata": {},
          "execution_count": 21
        },
        {
          "output_type": "stream",
          "text": [
            "time: 34 ms (started: 2021-08-22 00:08:06 +00:00)\n"
          ],
          "name": "stdout"
        }
      ]
    },
    {
      "cell_type": "code",
      "metadata": {
        "id": "X4AyfD6cEiXI",
        "colab": {
          "base_uri": "https://localhost:8080/"
        },
        "outputId": "2f54163e-719f-4f92-9b48-f4090bbaba14"
      },
      "source": [
        "# add column for city name\n",
        "df_smc['South Portland/Portland'] = 'Portland'\n",
        "df_smc.loc[df_smc['zipcode'].isin([4106, 4107]), 'South Portland/Portland'] = \"South Portland\""
      ],
      "execution_count": null,
      "outputs": [
        {
          "output_type": "stream",
          "text": [
            "time: 8.15 ms (started: 2021-08-22 00:08:06 +00:00)\n"
          ],
          "name": "stdout"
        }
      ]
    },
    {
      "cell_type": "code",
      "metadata": {
        "colab": {
          "base_uri": "https://localhost:8080/",
          "height": 158
        },
        "id": "RcPEQkFJW0Xa",
        "outputId": "725667a1-73f8-4ad5-ff9a-bd1ceae50e8f"
      },
      "source": [
        "# find out number of Portland vs S Portland rows\n",
        "df_smc.groupby('South Portland/Portland').count()"
      ],
      "execution_count": null,
      "outputs": [
        {
          "output_type": "execute_result",
          "data": {
            "text/html": [
              "<div>\n",
              "<style scoped>\n",
              "    .dataframe tbody tr th:only-of-type {\n",
              "        vertical-align: middle;\n",
              "    }\n",
              "\n",
              "    .dataframe tbody tr th {\n",
              "        vertical-align: top;\n",
              "    }\n",
              "\n",
              "    .dataframe thead th {\n",
              "        text-align: right;\n",
              "    }\n",
              "</style>\n",
              "<table border=\"1\" class=\"dataframe\">\n",
              "  <thead>\n",
              "    <tr style=\"text-align: right;\">\n",
              "      <th></th>\n",
              "      <th>epoch time</th>\n",
              "      <th>date &amp; time</th>\n",
              "      <th>smell value</th>\n",
              "      <th>skewed latitude</th>\n",
              "      <th>skewed longitude</th>\n",
              "      <th>zipcode</th>\n",
              "      <th>smell description</th>\n",
              "      <th>symptoms</th>\n",
              "      <th>additional comments</th>\n",
              "    </tr>\n",
              "    <tr>\n",
              "      <th>South Portland/Portland</th>\n",
              "      <th></th>\n",
              "      <th></th>\n",
              "      <th></th>\n",
              "      <th></th>\n",
              "      <th></th>\n",
              "      <th></th>\n",
              "      <th></th>\n",
              "      <th></th>\n",
              "      <th></th>\n",
              "    </tr>\n",
              "  </thead>\n",
              "  <tbody>\n",
              "    <tr>\n",
              "      <th>Portland</th>\n",
              "      <td>436</td>\n",
              "      <td>436</td>\n",
              "      <td>436</td>\n",
              "      <td>436</td>\n",
              "      <td>436</td>\n",
              "      <td>436</td>\n",
              "      <td>301</td>\n",
              "      <td>142</td>\n",
              "      <td>14</td>\n",
              "    </tr>\n",
              "    <tr>\n",
              "      <th>South Portland</th>\n",
              "      <td>2176</td>\n",
              "      <td>2176</td>\n",
              "      <td>2176</td>\n",
              "      <td>2176</td>\n",
              "      <td>2176</td>\n",
              "      <td>2176</td>\n",
              "      <td>1751</td>\n",
              "      <td>792</td>\n",
              "      <td>49</td>\n",
              "    </tr>\n",
              "  </tbody>\n",
              "</table>\n",
              "</div>"
            ],
            "text/plain": [
              "                         epoch time  date & time  ...  symptoms  additional comments\n",
              "South Portland/Portland                           ...                               \n",
              "Portland                        436          436  ...       142                   14\n",
              "South Portland                 2176         2176  ...       792                   49\n",
              "\n",
              "[2 rows x 9 columns]"
            ]
          },
          "metadata": {},
          "execution_count": 23
        },
        {
          "output_type": "stream",
          "text": [
            "time: 35.3 ms (started: 2021-08-22 00:08:06 +00:00)\n"
          ],
          "name": "stdout"
        }
      ]
    },
    {
      "cell_type": "code",
      "metadata": {
        "id": "scsbG14LrQPh",
        "colab": {
          "base_uri": "https://localhost:8080/"
        },
        "outputId": "4900b276-7e36-4617-b7bf-2145bce2e2fb"
      },
      "source": [
        "def separate_datecols(df, datetime_col):\n",
        "  # create separate columns for day, month, year, hour and month name\n",
        "  df['Day'] = col.dt.day\n",
        "  df['Month'] = col.dt.month\n",
        "  df['Year'] = col.dt.year\n",
        "  df['Hour'] = col.dt.hour\n",
        "  df['Month_name'] = pd.to_datetime(df['Month'], format='%m').dt.month_name().str.slice(stop=3)\n",
        "\n",
        "  # Create a date and hour column\n",
        "  df['Date & time (hour rounded)'] = col.dt.strftime(\"%Y-%m-%d %H:00:00\")"
      ],
      "execution_count": null,
      "outputs": [
        {
          "output_type": "stream",
          "text": [
            "time: 9.08 ms (started: 2021-08-22 00:08:06 +00:00)\n"
          ],
          "name": "stdout"
        }
      ]
    },
    {
      "cell_type": "code",
      "metadata": {
        "id": "yTDxiPhsTVfK",
        "colab": {
          "base_uri": "https://localhost:8080/"
        },
        "outputId": "511c1400-d6ac-456b-d558-b35ac350adc5"
      },
      "source": [
        "# change the date and time column to datetime format\n",
        "df_smc['date & time'] = df_smc['date & time'].str[0:20]\n",
        "df_smc['date & time'] = pd.to_datetime(df_smc['date & time'])\n",
        "\n",
        "# create separate columns for date and time\n",
        "df_smc['date'] = [d.date() for d in df_smc['date & time']]\n",
        "df_smc['time'] = [d.time() for d in df_smc['date & time']]\n",
        "\n",
        "# create separate columns for day, month, year, hour and month name\n",
        "col = df_smc['date & time']\n",
        "separate_datecols(df_smc, col)\n",
        "\n",
        "# rename columns\n",
        "df_smc.rename(columns={'skewed latitude':'Latitude', 'skewed longitude':'Longitude'}, inplace=True)"
      ],
      "execution_count": null,
      "outputs": [
        {
          "output_type": "stream",
          "text": [
            "time: 408 ms (started: 2021-08-22 00:08:06 +00:00)\n"
          ],
          "name": "stdout"
        }
      ]
    },
    {
      "cell_type": "code",
      "metadata": {
        "colab": {
          "base_uri": "https://localhost:8080/",
          "height": 237
        },
        "id": "E_RKAlhvfucy",
        "outputId": "fc83cf92-8065-4621-ed57-8d391850297c"
      },
      "source": [
        "# load SCF data\n",
        "url = 'https://raw.githubusercontent.com/ds5110/stinky/master/data/scf.csv'\n",
        "df_scf=pd.read_csv(url)\n",
        "print(df_scf.shape)\n",
        "\n",
        "# the first rows of df_scf look like this\n",
        "df_scf.head()"
      ],
      "execution_count": null,
      "outputs": [
        {
          "output_type": "stream",
          "text": [
            "(295, 12)\n"
          ],
          "name": "stdout"
        },
        {
          "output_type": "execute_result",
          "data": {
            "text/html": [
              "<div>\n",
              "<style scoped>\n",
              "    .dataframe tbody tr th:only-of-type {\n",
              "        vertical-align: middle;\n",
              "    }\n",
              "\n",
              "    .dataframe tbody tr th {\n",
              "        vertical-align: top;\n",
              "    }\n",
              "\n",
              "    .dataframe thead th {\n",
              "        text-align: right;\n",
              "    }\n",
              "</style>\n",
              "<table border=\"1\" class=\"dataframe\">\n",
              "  <thead>\n",
              "    <tr style=\"text-align: right;\">\n",
              "      <th></th>\n",
              "      <th>Id</th>\n",
              "      <th>Report Source</th>\n",
              "      <th>Category</th>\n",
              "      <th>Created at local</th>\n",
              "      <th>Closed at local</th>\n",
              "      <th>Status</th>\n",
              "      <th>Address</th>\n",
              "      <th>Description</th>\n",
              "      <th>URL</th>\n",
              "      <th>Lat</th>\n",
              "      <th>Lng</th>\n",
              "      <th>Export tagged places</th>\n",
              "    </tr>\n",
              "  </thead>\n",
              "  <tbody>\n",
              "    <tr>\n",
              "      <th>0</th>\n",
              "      <td>7181157</td>\n",
              "      <td>iPhone</td>\n",
              "      <td>Odor</td>\n",
              "      <td>01/07/2020 - 08:26AM</td>\n",
              "      <td>01/07/2020 - 09:20AM</td>\n",
              "      <td>Archived</td>\n",
              "      <td>315 Spring Street</td>\n",
              "      <td>Petroleum smell coming from south portland</td>\n",
              "      <td>https://crm.seeclickfix.com/#/organizations/61...</td>\n",
              "      <td>43.647740</td>\n",
              "      <td>-70.269455</td>\n",
              "      <td>City Council District 2</td>\n",
              "    </tr>\n",
              "    <tr>\n",
              "      <th>1</th>\n",
              "      <td>7181402</td>\n",
              "      <td>Android</td>\n",
              "      <td>Odor</td>\n",
              "      <td>01/07/2020 - 09:11AM</td>\n",
              "      <td>01/07/2020 - 09:20AM</td>\n",
              "      <td>Archived</td>\n",
              "      <td>25 Cushman St</td>\n",
              "      <td>usual petroleum</td>\n",
              "      <td>https://crm.seeclickfix.com/#/organizations/61...</td>\n",
              "      <td>43.649448</td>\n",
              "      <td>-70.268626</td>\n",
              "      <td>City Council District 2</td>\n",
              "    </tr>\n",
              "    <tr>\n",
              "      <th>2</th>\n",
              "      <td>7192000</td>\n",
              "      <td>Android</td>\n",
              "      <td>Odor</td>\n",
              "      <td>01/09/2020 - 07:14AM</td>\n",
              "      <td>01/09/2020 - 08:45AM</td>\n",
              "      <td>Archived</td>\n",
              "      <td>25 Cushman St</td>\n",
              "      <td>usual petroleum</td>\n",
              "      <td>https://crm.seeclickfix.com/#/organizations/61...</td>\n",
              "      <td>43.649448</td>\n",
              "      <td>-70.268626</td>\n",
              "      <td>City Council District 2</td>\n",
              "    </tr>\n",
              "    <tr>\n",
              "      <th>3</th>\n",
              "      <td>7206428</td>\n",
              "      <td>Android</td>\n",
              "      <td>Odor</td>\n",
              "      <td>01/13/2020 - 08:22AM</td>\n",
              "      <td>01/13/2020 - 09:09AM</td>\n",
              "      <td>Archived</td>\n",
              "      <td>25 Cushman St</td>\n",
              "      <td>worst yet</td>\n",
              "      <td>https://crm.seeclickfix.com/#/organizations/61...</td>\n",
              "      <td>43.649448</td>\n",
              "      <td>-70.268626</td>\n",
              "      <td>City Council District 2</td>\n",
              "    </tr>\n",
              "    <tr>\n",
              "      <th>4</th>\n",
              "      <td>7210067</td>\n",
              "      <td>Android</td>\n",
              "      <td>Odor</td>\n",
              "      <td>01/14/2020 - 08:24AM</td>\n",
              "      <td>01/14/2020 - 02:50PM</td>\n",
              "      <td>Archived</td>\n",
              "      <td>25 Cushman St</td>\n",
              "      <td>usual petroleum stink. Cushman and Reiche play...</td>\n",
              "      <td>https://crm.seeclickfix.com/#/organizations/61...</td>\n",
              "      <td>43.649448</td>\n",
              "      <td>-70.268626</td>\n",
              "      <td>City Council District 2</td>\n",
              "    </tr>\n",
              "  </tbody>\n",
              "</table>\n",
              "</div>"
            ],
            "text/plain": [
              "        Id Report Source  ...        Lng     Export tagged places\n",
              "0  7181157        iPhone  ... -70.269455  City Council District 2\n",
              "1  7181402       Android  ... -70.268626  City Council District 2\n",
              "2  7192000       Android  ... -70.268626  City Council District 2\n",
              "3  7206428       Android  ... -70.268626  City Council District 2\n",
              "4  7210067       Android  ... -70.268626  City Council District 2\n",
              "\n",
              "[5 rows x 12 columns]"
            ]
          },
          "metadata": {},
          "execution_count": 26
        },
        {
          "output_type": "stream",
          "text": [
            "time: 77.5 ms (started: 2021-08-22 00:08:07 +00:00)\n"
          ],
          "name": "stdout"
        }
      ]
    },
    {
      "cell_type": "code",
      "metadata": {
        "colab": {
          "base_uri": "https://localhost:8080/"
        },
        "id": "Q-moRRK4geuc",
        "outputId": "f8670974-5b15-4d1c-8c5c-9b889d456db0"
      },
      "source": [
        "# check for NA values \n",
        "df_scf.isnull().sum()"
      ],
      "execution_count": null,
      "outputs": [
        {
          "output_type": "execute_result",
          "data": {
            "text/plain": [
              "Id                       0\n",
              "Report Source            0\n",
              "Category                 0\n",
              "Created at local         0\n",
              "Closed at local          2\n",
              "Status                   0\n",
              "Address                  0\n",
              "Description             39\n",
              "URL                      0\n",
              "Lat                      0\n",
              "Lng                      0\n",
              "Export tagged places     0\n",
              "dtype: int64"
            ]
          },
          "metadata": {},
          "execution_count": 27
        },
        {
          "output_type": "stream",
          "text": [
            "time: 10.5 ms (started: 2021-08-22 00:08:07 +00:00)\n"
          ],
          "name": "stdout"
        }
      ]
    },
    {
      "cell_type": "code",
      "metadata": {
        "id": "V4AT_mSjalDF",
        "colab": {
          "base_uri": "https://localhost:8080/"
        },
        "outputId": "090788fc-3365-45c3-9a4b-6269bade36cf"
      },
      "source": [
        "# change the date and time column to datetime format\n",
        "df_scf['Created at local']=pd.to_datetime(df_scf['Created at local'])\n",
        "df_scf['Closed at local']=pd.to_datetime(df_scf['Closed at local'])\n",
        "\n",
        "# create separate columns for date and time\n",
        "df_scf['date'] = [d.date() for d in df_scf['Created at local']]\n",
        "df_scf['time'] = [d.time() for d in df_scf['Created at local']]\n",
        "\n",
        "# create separate columns for day, month, year, hour and month name\n",
        "col = df_scf['Created at local']\n",
        "separate_datecols(df_scf, col)\n",
        "\n",
        "# rename columns\n",
        "df_scf.rename(columns={'Description':'smell description', 'Lat':'Latitude', 'Lng':'Longitude'}, inplace=True)"
      ],
      "execution_count": null,
      "outputs": [
        {
          "output_type": "stream",
          "text": [
            "time: 110 ms (started: 2021-08-22 00:08:07 +00:00)\n"
          ],
          "name": "stdout"
        }
      ]
    },
    {
      "cell_type": "code",
      "metadata": {
        "colab": {
          "base_uri": "https://localhost:8080/"
        },
        "id": "oID6PaLX8T_n",
        "outputId": "a4d84662-e5ce-41a1-df7e-ab3a017ef423"
      },
      "source": [
        "# We used Google's geocoding API to determine the city of odor reports in df_scf, which contains only addresses (number and street name) and lat/long. \n",
        "# This is in case future SCF data includes reports from South Portland.\n",
        "# More information about the approach in the code below can be found here: \n",
        "# https://towardsdatascience.com/the-art-of-geofencing-in-python-e6cc237e172d\n",
        "\n",
        "# install packages for google geocoding API\n",
        "!apt install gdal-bin python-gdal python3-gdal --quiet\n",
        "!apt install python3-rtree --quiet\n",
        "!pip install git+git://github.com/geopandas/geopandas.git --quiet\n",
        "!pip install descartes --quiet\n",
        "!pip install geopy\n",
        "!pip install plotly_express\n",
        "!pip install ipython-autotime\n",
        "!pip install tqdm==4.62\n",
        "%load_ext autotime\n",
        "import pandas as pd\n",
        "\n",
        "import geopandas as gpd\n",
        "import geopy\n",
        "from geopy.geocoders import Nominatim\n",
        "from geopy.extra.rate_limiter import RateLimiter\n",
        "\n",
        "import matplotlib.pyplot as plt\n",
        "import plotly_express as px\n",
        "import tqdm\n",
        "from tqdm import tqdm\n",
        "from tqdm.notebook import tqdm_notebook"
      ],
      "execution_count": null,
      "outputs": [
        {
          "output_type": "stream",
          "text": [
            "Reading package lists...\n",
            "Building dependency tree...\n",
            "Reading state information...\n",
            "gdal-bin is already the newest version (2.2.3+dfsg-2).\n",
            "python-gdal is already the newest version (2.2.3+dfsg-2).\n",
            "The following package was automatically installed and is no longer required:\n",
            "  libnvidia-common-460\n",
            "Use 'apt autoremove' to remove it.\n",
            "The following additional packages will be installed:\n",
            "  python3-numpy\n",
            "Suggested packages:\n",
            "  python-numpy-doc python3-nose python3-numpy-dbg\n",
            "The following NEW packages will be installed:\n",
            "  python3-gdal python3-numpy\n",
            "0 upgraded, 2 newly installed, 0 to remove and 40 not upgraded.\n",
            "Need to get 2,288 kB of archives.\n",
            "After this operation, 13.2 MB of additional disk space will be used.\n",
            "Get:1 http://archive.ubuntu.com/ubuntu bionic/main amd64 python3-numpy amd64 1:1.13.3-2ubuntu1 [1,943 kB]\n",
            "Get:2 http://archive.ubuntu.com/ubuntu bionic/universe amd64 python3-gdal amd64 2.2.3+dfsg-2 [346 kB]\n",
            "Fetched 2,288 kB in 1s (1,526 kB/s)\n",
            "Selecting previously unselected package python3-numpy.\n",
            "(Reading database ... 148486 files and directories currently installed.)\n",
            "Preparing to unpack .../python3-numpy_1%3a1.13.3-2ubuntu1_amd64.deb ...\n",
            "Unpacking python3-numpy (1:1.13.3-2ubuntu1) ...\n",
            "Selecting previously unselected package python3-gdal.\n",
            "Preparing to unpack .../python3-gdal_2.2.3+dfsg-2_amd64.deb ...\n",
            "Unpacking python3-gdal (2.2.3+dfsg-2) ...\n",
            "Setting up python3-numpy (1:1.13.3-2ubuntu1) ...\n",
            "Setting up python3-gdal (2.2.3+dfsg-2) ...\n",
            "Processing triggers for man-db (2.8.3-2ubuntu0.1) ...\n",
            "Reading package lists...\n",
            "Building dependency tree...\n",
            "Reading state information...\n",
            "The following package was automatically installed and is no longer required:\n",
            "  libnvidia-common-460\n",
            "Use 'apt autoremove' to remove it.\n",
            "The following additional packages will be installed:\n",
            "  libspatialindex-c4v5 libspatialindex-dev libspatialindex4v5\n",
            "  python3-pkg-resources\n",
            "Suggested packages:\n",
            "  python3-setuptools\n",
            "The following NEW packages will be installed:\n",
            "  libspatialindex-c4v5 libspatialindex-dev libspatialindex4v5\n",
            "  python3-pkg-resources python3-rtree\n",
            "0 upgraded, 5 newly installed, 0 to remove and 40 not upgraded.\n",
            "Need to get 671 kB of archives.\n",
            "After this operation, 3,948 kB of additional disk space will be used.\n",
            "Get:1 http://archive.ubuntu.com/ubuntu bionic/universe amd64 libspatialindex4v5 amd64 1.8.5-5 [219 kB]\n",
            "Get:2 http://archive.ubuntu.com/ubuntu bionic/universe amd64 libspatialindex-c4v5 amd64 1.8.5-5 [51.7 kB]\n",
            "Get:3 http://archive.ubuntu.com/ubuntu bionic/main amd64 python3-pkg-resources all 39.0.1-2 [98.8 kB]\n",
            "Get:4 http://archive.ubuntu.com/ubuntu bionic/universe amd64 libspatialindex-dev amd64 1.8.5-5 [285 kB]\n",
            "Get:5 http://archive.ubuntu.com/ubuntu bionic/universe amd64 python3-rtree all 0.8.3+ds-1 [16.9 kB]\n",
            "Fetched 671 kB in 1s (555 kB/s)\n",
            "Selecting previously unselected package libspatialindex4v5:amd64.\n",
            "(Reading database ... 148896 files and directories currently installed.)\n",
            "Preparing to unpack .../libspatialindex4v5_1.8.5-5_amd64.deb ...\n",
            "Unpacking libspatialindex4v5:amd64 (1.8.5-5) ...\n",
            "Selecting previously unselected package libspatialindex-c4v5:amd64.\n",
            "Preparing to unpack .../libspatialindex-c4v5_1.8.5-5_amd64.deb ...\n",
            "Unpacking libspatialindex-c4v5:amd64 (1.8.5-5) ...\n",
            "Selecting previously unselected package python3-pkg-resources.\n",
            "Preparing to unpack .../python3-pkg-resources_39.0.1-2_all.deb ...\n",
            "Unpacking python3-pkg-resources (39.0.1-2) ...\n",
            "Selecting previously unselected package libspatialindex-dev:amd64.\n",
            "Preparing to unpack .../libspatialindex-dev_1.8.5-5_amd64.deb ...\n",
            "Unpacking libspatialindex-dev:amd64 (1.8.5-5) ...\n",
            "Selecting previously unselected package python3-rtree.\n",
            "Preparing to unpack .../python3-rtree_0.8.3+ds-1_all.deb ...\n",
            "Unpacking python3-rtree (0.8.3+ds-1) ...\n",
            "Setting up libspatialindex4v5:amd64 (1.8.5-5) ...\n",
            "Setting up python3-pkg-resources (39.0.1-2) ...\n",
            "Setting up libspatialindex-c4v5:amd64 (1.8.5-5) ...\n",
            "Setting up libspatialindex-dev:amd64 (1.8.5-5) ...\n",
            "Setting up python3-rtree (0.8.3+ds-1) ...\n",
            "Processing triggers for libc-bin (2.27-3ubuntu1.2) ...\n",
            "/sbin/ldconfig.real: /usr/local/lib/python3.7/dist-packages/ideep4py/lib/libmkldnn.so.0 is not a symbolic link\n",
            "\n",
            "W: Operation was interrupted before it could finish\n",
            "\u001b[K     |████████████████████████████████| 15.4 MB 35 kB/s \n",
            "\u001b[K     |████████████████████████████████| 6.6 MB 39.2 MB/s \n",
            "\u001b[?25h  Building wheel for geopandas (setup.py) ... \u001b[?25l\u001b[?25hdone\n",
            "Requirement already satisfied: geopy in /usr/local/lib/python3.7/dist-packages (1.17.0)\n",
            "Requirement already satisfied: geographiclib<2,>=1.49 in /usr/local/lib/python3.7/dist-packages (from geopy) (1.52)\n",
            "Collecting plotly_express\n",
            "  Downloading plotly_express-0.4.1-py2.py3-none-any.whl (2.9 kB)\n",
            "Requirement already satisfied: statsmodels>=0.9.0 in /usr/local/lib/python3.7/dist-packages (from plotly_express) (0.10.2)\n",
            "Requirement already satisfied: patsy>=0.5 in /usr/local/lib/python3.7/dist-packages (from plotly_express) (0.5.1)\n",
            "Requirement already satisfied: plotly>=4.1.0 in /usr/local/lib/python3.7/dist-packages (from plotly_express) (4.4.1)\n",
            "Requirement already satisfied: scipy>=0.18 in /usr/local/lib/python3.7/dist-packages (from plotly_express) (1.4.1)\n",
            "Requirement already satisfied: numpy>=1.11 in /usr/local/lib/python3.7/dist-packages (from plotly_express) (1.19.5)\n",
            "Requirement already satisfied: pandas>=0.20.0 in /usr/local/lib/python3.7/dist-packages (from plotly_express) (1.1.5)\n",
            "Requirement already satisfied: pytz>=2017.2 in /usr/local/lib/python3.7/dist-packages (from pandas>=0.20.0->plotly_express) (2018.9)\n",
            "Requirement already satisfied: python-dateutil>=2.7.3 in /usr/local/lib/python3.7/dist-packages (from pandas>=0.20.0->plotly_express) (2.8.2)\n",
            "Requirement already satisfied: six in /usr/local/lib/python3.7/dist-packages (from patsy>=0.5->plotly_express) (1.15.0)\n",
            "Requirement already satisfied: retrying>=1.3.3 in /usr/local/lib/python3.7/dist-packages (from plotly>=4.1.0->plotly_express) (1.3.3)\n",
            "Installing collected packages: plotly-express\n",
            "Successfully installed plotly-express-0.4.1\n",
            "Collecting ipython-autotime\n",
            "  Downloading ipython_autotime-0.3.1-py2.py3-none-any.whl (6.8 kB)\n",
            "Requirement already satisfied: ipython in /usr/local/lib/python3.7/dist-packages (from ipython-autotime) (5.5.0)\n",
            "Requirement already satisfied: setuptools>=18.5 in /usr/local/lib/python3.7/dist-packages (from ipython->ipython-autotime) (57.4.0)\n",
            "Requirement already satisfied: pygments in /usr/local/lib/python3.7/dist-packages (from ipython->ipython-autotime) (2.6.1)\n",
            "Requirement already satisfied: traitlets>=4.2 in /usr/local/lib/python3.7/dist-packages (from ipython->ipython-autotime) (5.0.5)\n",
            "Requirement already satisfied: decorator in /usr/local/lib/python3.7/dist-packages (from ipython->ipython-autotime) (4.4.2)\n",
            "Requirement already satisfied: pickleshare in /usr/local/lib/python3.7/dist-packages (from ipython->ipython-autotime) (0.7.5)\n",
            "Requirement already satisfied: pexpect in /usr/local/lib/python3.7/dist-packages (from ipython->ipython-autotime) (4.8.0)\n",
            "Requirement already satisfied: simplegeneric>0.8 in /usr/local/lib/python3.7/dist-packages (from ipython->ipython-autotime) (0.8.1)\n",
            "Requirement already satisfied: prompt-toolkit<2.0.0,>=1.0.4 in /usr/local/lib/python3.7/dist-packages (from ipython->ipython-autotime) (1.0.18)\n",
            "Requirement already satisfied: six>=1.9.0 in /usr/local/lib/python3.7/dist-packages (from prompt-toolkit<2.0.0,>=1.0.4->ipython->ipython-autotime) (1.15.0)\n",
            "Requirement already satisfied: wcwidth in /usr/local/lib/python3.7/dist-packages (from prompt-toolkit<2.0.0,>=1.0.4->ipython->ipython-autotime) (0.2.5)\n",
            "Requirement already satisfied: ipython-genutils in /usr/local/lib/python3.7/dist-packages (from traitlets>=4.2->ipython->ipython-autotime) (0.2.0)\n",
            "Requirement already satisfied: ptyprocess>=0.5 in /usr/local/lib/python3.7/dist-packages (from pexpect->ipython->ipython-autotime) (0.7.0)\n",
            "Installing collected packages: ipython-autotime\n",
            "Successfully installed ipython-autotime-0.3.1\n",
            "Requirement already satisfied: tqdm==4.62 in /usr/local/lib/python3.7/dist-packages (4.62.0)\n",
            "time: 1.33 s (started: 2021-08-22 00:08:03 +00:00)\n"
          ],
          "name": "stdout"
        }
      ]
    },
    {
      "cell_type": "code",
      "metadata": {
        "colab": {
          "base_uri": "https://localhost:8080/"
        },
        "id": "MKW7lLD_8tQ7",
        "outputId": "b89173ac-5794-44e4-af94-2e7b88e84137"
      },
      "source": [
        "# # THIS CELL TAKES ~2.5 minutes to run (with 295 rows of data)\n",
        "\n",
        "# # create column \"address\" from lat and long\n",
        "# df_scf[\"geom\"] =  df_scf[\"Latitude\"].map(str)  + ',' + df_scf['Longitude'].map(str)\n",
        "# locator = Nominatim(user_agent=\"myGeocoder\", timeout=10)\n",
        "# rgeocode = RateLimiter(locator.reverse, min_delay_seconds=0.001)\n",
        "# tqdm.pandas()\n",
        "# df_scf['address'] = df_scf['geom'].progress_apply(rgeocode)"
      ],
      "execution_count": null,
      "outputs": [
        {
          "output_type": "stream",
          "text": [
            "time: 1.78 ms (started: 2021-08-22 00:08:05 +00:00)\n"
          ],
          "name": "stdout"
        }
      ]
    },
    {
      "cell_type": "code",
      "metadata": {
        "id": "MrV9gv4y8-rR",
        "colab": {
          "base_uri": "https://localhost:8080/"
        },
        "outputId": "b71f601a-1428-4e35-c4f8-96f5e63051a6"
      },
      "source": [
        "# create 'South Portland/Portland' column and filter out any South Portland entries\n",
        "import re\n",
        "df_scf['South Portland/Portland'] = 'Portland'\n",
        "df_scf.loc[df_scf['address'].str.contains('South Portland', na=False), 'South Portland/Portland'] = \"South Portland\""
      ],
      "execution_count": null,
      "outputs": [
        {
          "output_type": "stream",
          "text": [
            "time: 1.95 ms (started: 2021-08-22 00:08:05 +00:00)\n"
          ],
          "name": "stdout"
        }
      ]
    },
    {
      "cell_type": "code",
      "metadata": {
        "id": "Sokbpgx8MW8i",
        "colab": {
          "base_uri": "https://localhost:8080/",
          "height": 336
        },
        "outputId": "1f398a04-be26-4be2-b44c-c9234c1c80df"
      },
      "source": [
        "# Merge two datasets\n",
        "df_stinky = df_scf.append(df_smc, sort=False)\n",
        "\n",
        "# the first rows of df_stinky look like this\n",
        "df_stinky.head()"
      ],
      "execution_count": null,
      "outputs": [
        {
          "output_type": "execute_result",
          "data": {
            "text/html": [
              "<div>\n",
              "<style scoped>\n",
              "    .dataframe tbody tr th:only-of-type {\n",
              "        vertical-align: middle;\n",
              "    }\n",
              "\n",
              "    .dataframe tbody tr th {\n",
              "        vertical-align: top;\n",
              "    }\n",
              "\n",
              "    .dataframe thead th {\n",
              "        text-align: right;\n",
              "    }\n",
              "</style>\n",
              "<table border=\"1\" class=\"dataframe\">\n",
              "  <thead>\n",
              "    <tr style=\"text-align: right;\">\n",
              "      <th></th>\n",
              "      <th>Id</th>\n",
              "      <th>Report Source</th>\n",
              "      <th>Category</th>\n",
              "      <th>Created at local</th>\n",
              "      <th>Closed at local</th>\n",
              "      <th>Status</th>\n",
              "      <th>Address</th>\n",
              "      <th>smell description</th>\n",
              "      <th>URL</th>\n",
              "      <th>Latitude</th>\n",
              "      <th>Longitude</th>\n",
              "      <th>Export tagged places</th>\n",
              "      <th>date</th>\n",
              "      <th>time</th>\n",
              "      <th>Day</th>\n",
              "      <th>Month</th>\n",
              "      <th>Year</th>\n",
              "      <th>Hour</th>\n",
              "      <th>Month_name</th>\n",
              "      <th>Date &amp; time (hour rounded)</th>\n",
              "      <th>epoch time</th>\n",
              "      <th>date &amp; time</th>\n",
              "      <th>smell value</th>\n",
              "      <th>zipcode</th>\n",
              "      <th>symptoms</th>\n",
              "      <th>additional comments</th>\n",
              "      <th>South Portland/Portland</th>\n",
              "    </tr>\n",
              "  </thead>\n",
              "  <tbody>\n",
              "    <tr>\n",
              "      <th>0</th>\n",
              "      <td>7181157.0</td>\n",
              "      <td>iPhone</td>\n",
              "      <td>Odor</td>\n",
              "      <td>2020-01-07 08:26:00</td>\n",
              "      <td>2020-01-07 09:20:00</td>\n",
              "      <td>Archived</td>\n",
              "      <td>315 Spring Street</td>\n",
              "      <td>Petroleum smell coming from south portland</td>\n",
              "      <td>https://crm.seeclickfix.com/#/organizations/61...</td>\n",
              "      <td>43.647740</td>\n",
              "      <td>-70.269455</td>\n",
              "      <td>City Council District 2</td>\n",
              "      <td>2020-01-07</td>\n",
              "      <td>08:26:00</td>\n",
              "      <td>7</td>\n",
              "      <td>1</td>\n",
              "      <td>2020</td>\n",
              "      <td>8</td>\n",
              "      <td>Jan</td>\n",
              "      <td>2020-01-07 08:00:00</td>\n",
              "      <td>NaN</td>\n",
              "      <td>NaT</td>\n",
              "      <td>NaN</td>\n",
              "      <td>NaN</td>\n",
              "      <td>NaN</td>\n",
              "      <td>NaN</td>\n",
              "      <td>NaN</td>\n",
              "    </tr>\n",
              "    <tr>\n",
              "      <th>1</th>\n",
              "      <td>7181402.0</td>\n",
              "      <td>Android</td>\n",
              "      <td>Odor</td>\n",
              "      <td>2020-01-07 09:11:00</td>\n",
              "      <td>2020-01-07 09:20:00</td>\n",
              "      <td>Archived</td>\n",
              "      <td>25 Cushman St</td>\n",
              "      <td>usual petroleum</td>\n",
              "      <td>https://crm.seeclickfix.com/#/organizations/61...</td>\n",
              "      <td>43.649448</td>\n",
              "      <td>-70.268626</td>\n",
              "      <td>City Council District 2</td>\n",
              "      <td>2020-01-07</td>\n",
              "      <td>09:11:00</td>\n",
              "      <td>7</td>\n",
              "      <td>1</td>\n",
              "      <td>2020</td>\n",
              "      <td>9</td>\n",
              "      <td>Jan</td>\n",
              "      <td>2020-01-07 09:00:00</td>\n",
              "      <td>NaN</td>\n",
              "      <td>NaT</td>\n",
              "      <td>NaN</td>\n",
              "      <td>NaN</td>\n",
              "      <td>NaN</td>\n",
              "      <td>NaN</td>\n",
              "      <td>NaN</td>\n",
              "    </tr>\n",
              "    <tr>\n",
              "      <th>2</th>\n",
              "      <td>7192000.0</td>\n",
              "      <td>Android</td>\n",
              "      <td>Odor</td>\n",
              "      <td>2020-01-09 07:14:00</td>\n",
              "      <td>2020-01-09 08:45:00</td>\n",
              "      <td>Archived</td>\n",
              "      <td>25 Cushman St</td>\n",
              "      <td>usual petroleum</td>\n",
              "      <td>https://crm.seeclickfix.com/#/organizations/61...</td>\n",
              "      <td>43.649448</td>\n",
              "      <td>-70.268626</td>\n",
              "      <td>City Council District 2</td>\n",
              "      <td>2020-01-09</td>\n",
              "      <td>07:14:00</td>\n",
              "      <td>9</td>\n",
              "      <td>1</td>\n",
              "      <td>2020</td>\n",
              "      <td>7</td>\n",
              "      <td>Jan</td>\n",
              "      <td>2020-01-09 07:00:00</td>\n",
              "      <td>NaN</td>\n",
              "      <td>NaT</td>\n",
              "      <td>NaN</td>\n",
              "      <td>NaN</td>\n",
              "      <td>NaN</td>\n",
              "      <td>NaN</td>\n",
              "      <td>NaN</td>\n",
              "    </tr>\n",
              "    <tr>\n",
              "      <th>3</th>\n",
              "      <td>7206428.0</td>\n",
              "      <td>Android</td>\n",
              "      <td>Odor</td>\n",
              "      <td>2020-01-13 08:22:00</td>\n",
              "      <td>2020-01-13 09:09:00</td>\n",
              "      <td>Archived</td>\n",
              "      <td>25 Cushman St</td>\n",
              "      <td>worst yet</td>\n",
              "      <td>https://crm.seeclickfix.com/#/organizations/61...</td>\n",
              "      <td>43.649448</td>\n",
              "      <td>-70.268626</td>\n",
              "      <td>City Council District 2</td>\n",
              "      <td>2020-01-13</td>\n",
              "      <td>08:22:00</td>\n",
              "      <td>13</td>\n",
              "      <td>1</td>\n",
              "      <td>2020</td>\n",
              "      <td>8</td>\n",
              "      <td>Jan</td>\n",
              "      <td>2020-01-13 08:00:00</td>\n",
              "      <td>NaN</td>\n",
              "      <td>NaT</td>\n",
              "      <td>NaN</td>\n",
              "      <td>NaN</td>\n",
              "      <td>NaN</td>\n",
              "      <td>NaN</td>\n",
              "      <td>NaN</td>\n",
              "    </tr>\n",
              "    <tr>\n",
              "      <th>4</th>\n",
              "      <td>7210067.0</td>\n",
              "      <td>Android</td>\n",
              "      <td>Odor</td>\n",
              "      <td>2020-01-14 08:24:00</td>\n",
              "      <td>2020-01-14 14:50:00</td>\n",
              "      <td>Archived</td>\n",
              "      <td>25 Cushman St</td>\n",
              "      <td>usual petroleum stink. Cushman and Reiche play...</td>\n",
              "      <td>https://crm.seeclickfix.com/#/organizations/61...</td>\n",
              "      <td>43.649448</td>\n",
              "      <td>-70.268626</td>\n",
              "      <td>City Council District 2</td>\n",
              "      <td>2020-01-14</td>\n",
              "      <td>08:24:00</td>\n",
              "      <td>14</td>\n",
              "      <td>1</td>\n",
              "      <td>2020</td>\n",
              "      <td>8</td>\n",
              "      <td>Jan</td>\n",
              "      <td>2020-01-14 08:00:00</td>\n",
              "      <td>NaN</td>\n",
              "      <td>NaT</td>\n",
              "      <td>NaN</td>\n",
              "      <td>NaN</td>\n",
              "      <td>NaN</td>\n",
              "      <td>NaN</td>\n",
              "      <td>NaN</td>\n",
              "    </tr>\n",
              "  </tbody>\n",
              "</table>\n",
              "</div>"
            ],
            "text/plain": [
              "          Id Report Source  ... additional comments South Portland/Portland\n",
              "0  7181157.0        iPhone  ...                 NaN                     NaN\n",
              "1  7181402.0       Android  ...                 NaN                     NaN\n",
              "2  7192000.0       Android  ...                 NaN                     NaN\n",
              "3  7206428.0       Android  ...                 NaN                     NaN\n",
              "4  7210067.0       Android  ...                 NaN                     NaN\n",
              "\n",
              "[5 rows x 27 columns]"
            ]
          },
          "metadata": {},
          "execution_count": 14
        },
        {
          "output_type": "stream",
          "text": [
            "time: 66.8 ms (started: 2021-08-22 00:08:05 +00:00)\n"
          ],
          "name": "stdout"
        }
      ]
    },
    {
      "cell_type": "code",
      "metadata": {
        "colab": {
          "base_uri": "https://localhost:8080/",
          "height": 188
        },
        "id": "EQnjPLOILl1m",
        "outputId": "31efd106-8001-4050-90e1-85fa6fe3679b"
      },
      "source": [
        "# there are 350 reports for 2019, 1802 for 2020, and 755 for 2021\n",
        "df_stinky.groupby('Year').count()"
      ],
      "execution_count": null,
      "outputs": [
        {
          "output_type": "execute_result",
          "data": {
            "text/html": [
              "<div>\n",
              "<style scoped>\n",
              "    .dataframe tbody tr th:only-of-type {\n",
              "        vertical-align: middle;\n",
              "    }\n",
              "\n",
              "    .dataframe tbody tr th {\n",
              "        vertical-align: top;\n",
              "    }\n",
              "\n",
              "    .dataframe thead th {\n",
              "        text-align: right;\n",
              "    }\n",
              "</style>\n",
              "<table border=\"1\" class=\"dataframe\">\n",
              "  <thead>\n",
              "    <tr style=\"text-align: right;\">\n",
              "      <th></th>\n",
              "      <th>Id</th>\n",
              "      <th>Report Source</th>\n",
              "      <th>Category</th>\n",
              "      <th>Created at local</th>\n",
              "      <th>Closed at local</th>\n",
              "      <th>Status</th>\n",
              "      <th>Address</th>\n",
              "      <th>smell description</th>\n",
              "      <th>URL</th>\n",
              "      <th>Latitude</th>\n",
              "      <th>Longitude</th>\n",
              "      <th>Export tagged places</th>\n",
              "      <th>date</th>\n",
              "      <th>time</th>\n",
              "      <th>Day</th>\n",
              "      <th>Month</th>\n",
              "      <th>Hour</th>\n",
              "      <th>Month_name</th>\n",
              "      <th>Date &amp; time (hour rounded)</th>\n",
              "      <th>epoch time</th>\n",
              "      <th>date &amp; time</th>\n",
              "      <th>smell value</th>\n",
              "      <th>zipcode</th>\n",
              "      <th>symptoms</th>\n",
              "      <th>additional comments</th>\n",
              "      <th>South Portland/Portland</th>\n",
              "    </tr>\n",
              "    <tr>\n",
              "      <th>Year</th>\n",
              "      <th></th>\n",
              "      <th></th>\n",
              "      <th></th>\n",
              "      <th></th>\n",
              "      <th></th>\n",
              "      <th></th>\n",
              "      <th></th>\n",
              "      <th></th>\n",
              "      <th></th>\n",
              "      <th></th>\n",
              "      <th></th>\n",
              "      <th></th>\n",
              "      <th></th>\n",
              "      <th></th>\n",
              "      <th></th>\n",
              "      <th></th>\n",
              "      <th></th>\n",
              "      <th></th>\n",
              "      <th></th>\n",
              "      <th></th>\n",
              "      <th></th>\n",
              "      <th></th>\n",
              "      <th></th>\n",
              "      <th></th>\n",
              "      <th></th>\n",
              "      <th></th>\n",
              "    </tr>\n",
              "  </thead>\n",
              "  <tbody>\n",
              "    <tr>\n",
              "      <th>2019</th>\n",
              "      <td>0</td>\n",
              "      <td>0</td>\n",
              "      <td>0</td>\n",
              "      <td>0</td>\n",
              "      <td>0</td>\n",
              "      <td>0</td>\n",
              "      <td>0</td>\n",
              "      <td>225</td>\n",
              "      <td>0</td>\n",
              "      <td>350</td>\n",
              "      <td>350</td>\n",
              "      <td>0</td>\n",
              "      <td>350</td>\n",
              "      <td>350</td>\n",
              "      <td>350</td>\n",
              "      <td>350</td>\n",
              "      <td>350</td>\n",
              "      <td>350</td>\n",
              "      <td>350</td>\n",
              "      <td>350</td>\n",
              "      <td>350</td>\n",
              "      <td>350</td>\n",
              "      <td>350</td>\n",
              "      <td>91</td>\n",
              "      <td>3</td>\n",
              "      <td>350</td>\n",
              "    </tr>\n",
              "    <tr>\n",
              "      <th>2020</th>\n",
              "      <td>267</td>\n",
              "      <td>267</td>\n",
              "      <td>267</td>\n",
              "      <td>267</td>\n",
              "      <td>267</td>\n",
              "      <td>267</td>\n",
              "      <td>267</td>\n",
              "      <td>1487</td>\n",
              "      <td>267</td>\n",
              "      <td>1802</td>\n",
              "      <td>1802</td>\n",
              "      <td>267</td>\n",
              "      <td>1802</td>\n",
              "      <td>1802</td>\n",
              "      <td>1802</td>\n",
              "      <td>1802</td>\n",
              "      <td>1802</td>\n",
              "      <td>1802</td>\n",
              "      <td>1802</td>\n",
              "      <td>1535</td>\n",
              "      <td>1535</td>\n",
              "      <td>1535</td>\n",
              "      <td>1535</td>\n",
              "      <td>621</td>\n",
              "      <td>41</td>\n",
              "      <td>1535</td>\n",
              "    </tr>\n",
              "    <tr>\n",
              "      <th>2021</th>\n",
              "      <td>28</td>\n",
              "      <td>28</td>\n",
              "      <td>28</td>\n",
              "      <td>28</td>\n",
              "      <td>26</td>\n",
              "      <td>28</td>\n",
              "      <td>28</td>\n",
              "      <td>596</td>\n",
              "      <td>28</td>\n",
              "      <td>755</td>\n",
              "      <td>755</td>\n",
              "      <td>28</td>\n",
              "      <td>755</td>\n",
              "      <td>755</td>\n",
              "      <td>755</td>\n",
              "      <td>755</td>\n",
              "      <td>755</td>\n",
              "      <td>755</td>\n",
              "      <td>755</td>\n",
              "      <td>727</td>\n",
              "      <td>727</td>\n",
              "      <td>727</td>\n",
              "      <td>727</td>\n",
              "      <td>222</td>\n",
              "      <td>19</td>\n",
              "      <td>727</td>\n",
              "    </tr>\n",
              "  </tbody>\n",
              "</table>\n",
              "</div>"
            ],
            "text/plain": [
              "       Id  Report Source  ...  additional comments  South Portland/Portland\n",
              "Year                      ...                                              \n",
              "2019    0              0  ...                    3                      350\n",
              "2020  267            267  ...                   41                     1535\n",
              "2021   28             28  ...                   19                      727\n",
              "\n",
              "[3 rows x 26 columns]"
            ]
          },
          "metadata": {},
          "execution_count": 30
        },
        {
          "output_type": "stream",
          "text": [
            "time: 42.2 ms (started: 2021-08-22 00:51:52 +00:00)\n"
          ],
          "name": "stdout"
        }
      ]
    },
    {
      "cell_type": "code",
      "metadata": {
        "colab": {
          "base_uri": "https://localhost:8080/"
        },
        "id": "t-NjESrLMjiW",
        "outputId": "d5bf20b9-0f13-49d4-987c-00d33cf7925f"
      },
      "source": [
        "# check that common columns were correctly merged\n",
        "df_stinky.isnull().sum()"
      ],
      "execution_count": null,
      "outputs": [
        {
          "output_type": "execute_result",
          "data": {
            "text/plain": [
              "Id                            2612\n",
              "Report Source                 2612\n",
              "Category                      2612\n",
              "Created at local              2612\n",
              "Closed at local               2614\n",
              "Status                        2612\n",
              "Address                       2612\n",
              "smell description              599\n",
              "URL                           2612\n",
              "Latitude                         0\n",
              "Longitude                        0\n",
              "Export tagged places          2612\n",
              "date                             0\n",
              "time                             0\n",
              "Day                              0\n",
              "Month                            0\n",
              "Year                             0\n",
              "Hour                             0\n",
              "Month_name                       0\n",
              "Date & time (hour rounded)       0\n",
              "epoch time                     295\n",
              "date & time                    295\n",
              "smell value                    295\n",
              "zipcode                        295\n",
              "symptoms                      1973\n",
              "additional comments           2844\n",
              "South Portland/Portland        295\n",
              "dtype: int64"
            ]
          },
          "metadata": {},
          "execution_count": 16
        },
        {
          "output_type": "stream",
          "text": [
            "time: 13.9 ms (started: 2021-08-22 00:08:05 +00:00)\n"
          ],
          "name": "stdout"
        }
      ]
    },
    {
      "cell_type": "code",
      "metadata": {
        "colab": {
          "base_uri": "https://localhost:8080/"
        },
        "id": "Awjrkv1LMns2",
        "outputId": "453fc31f-bb3a-422b-cd7b-09edbf11733f"
      },
      "source": [
        "# look into missing 'smell description' data to check there were no merge errors\n",
        "print('SCF has {} null smell description rows'.format(df_scf['smell description'].isnull().sum()))\n",
        "print('SMC has {} null smell description rows'.format(df_smc['smell description'].isnull().sum()))\n",
        "print('Merged df has {} null smell description rows'.format(df_stinky['smell description'].isnull().sum()))"
      ],
      "execution_count": null,
      "outputs": [
        {
          "output_type": "stream",
          "text": [
            "SCF has 39 null smell description rows\n",
            "SMC has 560 null smell description rows\n",
            "Merged df has 599 null smell description rows\n",
            "time: 7.9 ms (started: 2021-08-22 00:08:05 +00:00)\n"
          ],
          "name": "stdout"
        }
      ]
    },
    {
      "cell_type": "code",
      "metadata": {
        "colab": {
          "base_uri": "https://localhost:8080/",
          "height": 34
        },
        "id": "ywQZFyrIuQSG",
        "outputId": "3b4f0d93-e6fe-49b9-d7d6-388c6bbe22d3"
      },
      "source": [
        "# download tidied df_stinky\n",
        "from google.colab import files\n",
        "df_stinky.to_csv('df_stinky.csv', index=False) \n",
        "files.download('df_stinky.csv')"
      ],
      "execution_count": null,
      "outputs": [
        {
          "output_type": "display_data",
          "data": {
            "application/javascript": [
              "\n",
              "    async function download(id, filename, size) {\n",
              "      if (!google.colab.kernel.accessAllowed) {\n",
              "        return;\n",
              "      }\n",
              "      const div = document.createElement('div');\n",
              "      const label = document.createElement('label');\n",
              "      label.textContent = `Downloading \"${filename}\": `;\n",
              "      div.appendChild(label);\n",
              "      const progress = document.createElement('progress');\n",
              "      progress.max = size;\n",
              "      div.appendChild(progress);\n",
              "      document.body.appendChild(div);\n",
              "\n",
              "      const buffers = [];\n",
              "      let downloaded = 0;\n",
              "\n",
              "      const channel = await google.colab.kernel.comms.open(id);\n",
              "      // Send a message to notify the kernel that we're ready.\n",
              "      channel.send({})\n",
              "\n",
              "      for await (const message of channel.messages) {\n",
              "        // Send a message to notify the kernel that we're ready.\n",
              "        channel.send({})\n",
              "        if (message.buffers) {\n",
              "          for (const buffer of message.buffers) {\n",
              "            buffers.push(buffer);\n",
              "            downloaded += buffer.byteLength;\n",
              "            progress.value = downloaded;\n",
              "          }\n",
              "        }\n",
              "      }\n",
              "      const blob = new Blob(buffers, {type: 'application/binary'});\n",
              "      const a = document.createElement('a');\n",
              "      a.href = window.URL.createObjectURL(blob);\n",
              "      a.download = filename;\n",
              "      div.appendChild(a);\n",
              "      a.click();\n",
              "      div.remove();\n",
              "    }\n",
              "  "
            ],
            "text/plain": [
              "<IPython.core.display.Javascript object>"
            ]
          },
          "metadata": {}
        },
        {
          "output_type": "display_data",
          "data": {
            "application/javascript": [
              "download(\"download_56709060-8c0d-4f28-9c8e-d4ae888132a5\", \"df_stinky.csv\", 537016)"
            ],
            "text/plain": [
              "<IPython.core.display.Javascript object>"
            ]
          },
          "metadata": {}
        },
        {
          "output_type": "stream",
          "text": [
            "time: 82.6 ms (started: 2021-08-22 00:08:05 +00:00)\n"
          ],
          "name": "stdout"
        }
      ]
    }
  ]
}